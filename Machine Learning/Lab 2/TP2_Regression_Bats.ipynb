{
 "cells": [
  {
   "cell_type": "markdown",
   "id": "24eebfd1",
   "metadata": {},
   "source": [
    "# TP 2 – Régression linéaire sur chauves-souris\n",
    "**Membres du groupe :** Nom 1, Nom 2\n",
    "\n",
    "Ce notebook contient le code source et les résultats du TP 2 de Machine Learning I sur la régression linéaire simple."
   ]
  },
  {
   "cell_type": "markdown",
   "id": "94ccce9b",
   "metadata": {},
   "source": [
    "## Partie A – Chargement et exploration des données"
   ]
  },
  {
   "cell_type": "markdown",
   "id": "2276d7e0",
   "metadata": {},
   "source": []
  },
  {
   "cell_type": "code",
   "execution_count": null,
   "id": "c7959b41",
   "metadata": {},
   "outputs": [
    {
     "ename": "",
     "evalue": "",
     "output_type": "error",
     "traceback": [
      "\u001b[1;31mFailed to start the Kernel. \n",
      "\u001b[1;31mUnable to start Kernel 'venv (Python 3.13.7)' due to a timeout waiting for the ports to get used. \n",
      "\u001b[1;31mView Jupyter <a href='command:jupyter.viewOutput'>log</a> for further details."
     ]
    }
   ],
   "source": [
    "import pandas as pd\n",
    "import numpy as np\n",
    "import matplotlib.pyplot as plt\n",
    "import statsmodels.api as sm\n",
    "import statsmodels.formula.api as smf\n",
    "\n",
    "# Chargement du fichier tabBats.txt\n",
    "# Adapter le chemin si nécessaire\n",
    "df = pd.read_csv(\"tabBats.txt\", sep=r\"\\s+|,\", engine=\"python\", comment='#')\n",
    "\n",
    "# Aperçu du jeu de données\n",
    "display(df.head())\n",
    "print(df.dtypes)\n",
    "display(df.describe())\n",
    "\n",
    "# Variables pertinentes\n",
    "data = df[['Species','Diet','BOW','BRW']].copy()\n",
    "display(data.head())"
   ]
  },
  {
   "cell_type": "markdown",
   "id": "cd9f811b",
   "metadata": {},
   "source": [
    "## Partie B – Première régression linéaire simple"
   ]
  },
  {
   "cell_type": "code",
   "execution_count": null,
   "id": "7f175d17",
   "metadata": {},
   "outputs": [],
   "source": [
    "# Nuage de points BRW vs BOW\n",
    "plt.figure(figsize=(7,5))\n",
    "plt.scatter(data['BOW'], data['BRW'], s=40, alpha=0.7)\n",
    "plt.xlabel(\"BOW (Body mass)\")\n",
    "plt.ylabel(\"BRW (Brain mass)\")\n",
    "plt.title(\"Nuage de points : BRW en fonction de BOW\")\n",
    "plt.grid(True)\n",
    "plt.show()"
   ]
  },
  {
   "cell_type": "code",
   "execution_count": null,
   "id": "5e8b5516",
   "metadata": {},
   "outputs": [],
   "source": [
    "# Ajustement du modèle linéaire simple\n",
    "model1 = smf.ols(formula=\"BRW ~ BOW\", data=data).fit()\n",
    "print(model1.summary())"
   ]
  },
  {
   "cell_type": "code",
   "execution_count": null,
   "id": "c07b9f69",
   "metadata": {},
   "outputs": [],
   "source": [
    "# Diagnostics des résidus\n",
    "resid = model1.resid\n",
    "fitted = model1.fittedvalues\n",
    "\n",
    "plt.figure(figsize=(7,5))\n",
    "plt.scatter(fitted, resid, alpha=0.7)\n",
    "plt.axhline(0, color='black', linewidth=0.8)\n",
    "plt.xlabel(\"Valeurs ajustées\")\n",
    "plt.ylabel(\"Résidus\")\n",
    "plt.title(\"Résidus vs valeurs ajustées (modèle 1)\")\n",
    "plt.grid(True)\n",
    "plt.show()\n",
    "\n",
    "sm.qqplot(resid, line='45', fit=True)\n",
    "plt.title(\"QQ-plot des résidus (modèle 1)\")\n",
    "plt.show()"
   ]
  },
  {
   "cell_type": "code",
   "execution_count": null,
   "id": "63049a74",
   "metadata": {},
   "outputs": [],
   "source": [
    "# Tracer la droite de régression sur le nuage\n",
    "x_vals = np.linspace(data['BOW'].min(), data['BOW'].max(), 100)\n",
    "y_vals = model1.params['Intercept'] + model1.params['BOW'] * x_vals\n",
    "\n",
    "plt.figure(figsize=(7,5))\n",
    "plt.scatter(data['BOW'], data['BRW'], s=40, alpha=0.7, label='Observations')\n",
    "plt.plot(x_vals, y_vals, color='red', linewidth=2, label='Droite de régression')\n",
    "plt.xlabel(\"BOW\")\n",
    "plt.ylabel(\"BRW\")\n",
    "plt.title(\"BRW vs BOW avec droite de régression (modèle 1)\")\n",
    "plt.legend()\n",
    "plt.grid(True)\n",
    "plt.show()"
   ]
  },
  {
   "cell_type": "markdown",
   "id": "eebf88de",
   "metadata": {},
   "source": [
    "## Partie C – Retrait de l’espèce atypique *Pteropus vampyrus*"
   ]
  },
  {
   "cell_type": "code",
   "execution_count": null,
   "id": "b72ea731",
   "metadata": {},
   "outputs": [],
   "source": [
    "# Retrait de Pteropus vampyrus\n",
    "tab2 = data[data['Species'] != 'Pteropus_vampyrus'].copy()\n",
    "\n",
    "# Comparaison visuelle\n",
    "plt.figure(figsize=(12,5))\n",
    "plt.subplot(1,2,1)\n",
    "plt.scatter(data['BOW'], data['BRW'], alpha=0.7)\n",
    "plt.title(\"Avec Pteropus vampyrus\")\n",
    "plt.xlabel(\"BOW\")\n",
    "plt.ylabel(\"BRW\")\n",
    "plt.grid(True)\n",
    "\n",
    "plt.subplot(1,2,2)\n",
    "plt.scatter(tab2['BOW'], tab2['BRW'], alpha=0.7)\n",
    "plt.title(\"Sans Pteropus vampyrus\")\n",
    "plt.xlabel(\"BOW\")\n",
    "plt.ylabel(\"BRW\")\n",
    "plt.grid(True)\n",
    "\n",
    "plt.tight_layout()\n",
    "plt.show()\n",
    "\n",
    "# Ajustement du second modèle\n",
    "model2 = smf.ols(formula=\"BRW ~ BOW\", data=tab2).fit()\n",
    "print(model2.summary())"
   ]
  },
  {
   "cell_type": "code",
   "execution_count": null,
   "id": "5c45fb3b",
   "metadata": {},
   "outputs": [],
   "source": [
    "# Superposition des deux droites de régression\n",
    "x_vals = np.linspace(data['BOW'].min(), data['BOW'].max(), 100)\n",
    "y1 = model1.params['Intercept'] + model1.params['BOW'] * x_vals\n",
    "y2 = model2.params['Intercept'] + model2.params['BOW'] * x_vals\n",
    "\n",
    "plt.figure(figsize=(7,5))\n",
    "plt.scatter(data['BOW'], data['BRW'], s=35, alpha=0.6, label='Avec P. vampyrus')\n",
    "plt.scatter(tab2['BOW'], tab2['BRW'], s=35, alpha=0.6, marker='x', label='Sans P. vampyrus')\n",
    "plt.plot(x_vals, y1, label='Droite avec P. vampyrus', linewidth=2)\n",
    "plt.plot(x_vals, y2, label='Droite sans P. vampyrus', linewidth=2, linestyle='--')\n",
    "plt.legend()\n",
    "plt.xlabel(\"BOW\")\n",
    "plt.ylabel(\"BRW\")\n",
    "plt.title(\"Comparaison des droites de régression\")\n",
    "plt.grid(True)\n",
    "plt.show()"
   ]
  }
 ],
 "metadata": {
  "kernelspec": {
   "display_name": "venv",
   "language": "python",
   "name": "python3"
  },
  "language_info": {
   "name": "python",
   "version": "3.13.7"
  }
 },
 "nbformat": 4,
 "nbformat_minor": 5
}
